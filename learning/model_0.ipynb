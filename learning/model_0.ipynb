{
 "cells": [
  {
   "cell_type": "markdown",
   "id": "705fdd32-ca20-42d3-9f82-e91899f39c8d",
   "metadata": {},
   "source": [
    "#### Steps to do\n",
    "1. data (prepare and load)\n",
    "2. build model\n",
    "3. fitting the model to data (training)\n",
    "4. making prediction and evaluting a model (interface)\n",
    "5. saving and loading a model\n",
    "6. putting it all together"
   ]
  },
  {
   "cell_type": "code",
   "execution_count": 60,
   "id": "6ab11837-031f-4dfe-a98f-02cfdde429c8",
   "metadata": {},
   "outputs": [],
   "source": [
    "import torch\n",
    "import numpy as np\n",
    "from torch import nn # nn contains layers, activation functions, loss functions, and other utilities to define and train neural networks easily.\n",
    "import matplotlib.pyplot as plt"
   ]
  },
  {
   "cell_type": "markdown",
   "id": "5a0b2c0e-8f5e-4d10-a66d-daadbba2c084",
   "metadata": {},
   "source": [
    "### Step 1 :- Data (prepare and load)"
   ]
  },
  {
   "cell_type": "code",
   "execution_count": 61,
   "id": "85eab294-89cf-46d1-9d29-2f0c90e2230d",
   "metadata": {},
   "outputs": [
    {
     "data": {
      "text/plain": [
       "(tensor([[0.0000],\n",
       "         [0.0200],\n",
       "         [0.0400],\n",
       "         [0.0600],\n",
       "         [0.0800],\n",
       "         [0.1000],\n",
       "         [0.1200],\n",
       "         [0.1400],\n",
       "         [0.1600],\n",
       "         [0.1800]]),\n",
       " tensor([[0.3000],\n",
       "         [0.3140],\n",
       "         [0.3280],\n",
       "         [0.3420],\n",
       "         [0.3560],\n",
       "         [0.3700],\n",
       "         [0.3840],\n",
       "         [0.3980],\n",
       "         [0.4120],\n",
       "         [0.4260]]),\n",
       " 50,\n",
       " 50)"
      ]
     },
     "execution_count": 61,
     "metadata": {},
     "output_type": "execute_result"
    }
   ],
   "source": [
    "# creating data using linear regression\n",
    "# we'll use linear regression formula to make a straight line with known parameters.\n",
    "weight = 0.7\n",
    "bias = 0.3\n",
    "\n",
    "# create data\n",
    "start = 0\n",
    "end = 1\n",
    "step = 0.02\n",
    "X = torch.arange(start, end, step).unsqueeze(dim=1)\n",
    "y = weight * X + bias\n",
    "\n",
    "X[:10], y[:10], len(X), len(y)"
   ]
  },
  {
   "cell_type": "markdown",
   "id": "ee6745c7-901d-4c78-aa83-c3a4f8d2ef8c",
   "metadata": {},
   "source": [
    "#### In above code X is the input and y is the output corresponding to each X"
   ]
  },
  {
   "cell_type": "markdown",
   "id": "cd796a3e-cb47-474e-ada7-f2c61f999b34",
   "metadata": {},
   "source": [
    "#### Splitting data into training and testing"
   ]
  },
  {
   "cell_type": "code",
   "execution_count": 62,
   "id": "5b819709-fdd4-4f45-9e02-913afb11addf",
   "metadata": {},
   "outputs": [],
   "source": [
    "# Create a train/test split\n",
    "train_split = int(0.8 * len(X))\n",
    "X_train, y_train = X[:train_split], y[:train_split]\n",
    "X_test, y_test = X[train_split:], y[train_split:]\n",
    "\n"
   ]
  },
  {
   "cell_type": "markdown",
   "id": "aa0afa88-4eec-4c35-acc7-b6ffb3aca691",
   "metadata": {},
   "source": [
    "#### Visualizing data"
   ]
  },
  {
   "cell_type": "code",
   "execution_count": 63,
   "id": "56d602dd-c974-44f6-b22a-d53b4a001230",
   "metadata": {},
   "outputs": [],
   "source": [
    "def plot_predictions(train_data=X_train, train_labels=y_train, test_data=X_test, test_labels=y_test, predictions=None):\n",
    "    plt.figure(figsize=(10,7))\n",
    "\n",
    "    # Ploting train data in blue\n",
    "    plt.scatter(train_data, train_labels, c=\"b\", s=4, label=\"Training data\")\n",
    "\n",
    "    # Ploting test data in green\n",
    "    plt.scatter(test_data, test_labels, c=\"green\", s=4, label=\"Testing data\")\n",
    "\n",
    "    # Are there predictions?\n",
    "    if predictions is not None:\n",
    "        # Plot predictions if they exists\n",
    "        plt.scatter(test_data, predictions, c=\"red\", s=4, label=\"Predictions\")\n",
    "\n",
    "    # Show the legend\n",
    "    plt.legend(prop={\"size\": 14})"
   ]
  },
  {
   "cell_type": "code",
   "execution_count": 64,
   "id": "ea684792-fc16-4622-aa14-9a46992caf56",
   "metadata": {},
   "outputs": [],
   "source": [
    "# plot_predictions()"
   ]
  },
  {
   "cell_type": "markdown",
   "id": "09955f6d-3981-4a71-aa93-e31e806aeaaa",
   "metadata": {},
   "source": [
    "### Building model"
   ]
  },
  {
   "cell_type": "code",
   "execution_count": 65,
   "id": "22ba8b25-6cb3-434b-ba68-4a224dda9745",
   "metadata": {},
   "outputs": [],
   "source": [
    "# Creating linear regression model class\n",
    "class LinearRegressionModel(nn.Module):  # almost everything in PyTorch inherits from nn.Module\n",
    "    def __init__(self):\n",
    "        super().__init__()  # it calls its parent class nn.Module and It initializes all internal methods of nn.Module.\n",
    "        self.weights = nn.Parameter(torch.randn(1, requires_grad=True, dtype=torch.float))\n",
    "        self.bias = nn.Parameter(torch.randn(1, requires_grad=True, dtype=torch.float))\n",
    "\n",
    "    # forward method to define the computation in the model\n",
    "    def forward(self, x: torch.Tensor) -> torch.Tensor: # -> torch.Tensor means the function returns a tensor. x is the input data\n",
    "        return self.weights *  x +  self.bias     # linear regression formula"
   ]
  },
  {
   "cell_type": "markdown",
   "id": "0b04b707-2611-4984-a176-0a209f669562",
   "metadata": {},
   "source": [
    "#### checking the content of our pytorch model\n",
    "we can check our model or what inside the model by `.parameters()`"
   ]
  },
  {
   "cell_type": "code",
   "execution_count": 66,
   "id": "89e47202-cfa8-4cfc-8802-40edb96da7b9",
   "metadata": {},
   "outputs": [
    {
     "data": {
      "text/plain": [
       "[Parameter containing:\n",
       " tensor([0.3367], requires_grad=True),\n",
       " Parameter containing:\n",
       " tensor([0.1288], requires_grad=True)]"
      ]
     },
     "execution_count": 66,
     "metadata": {},
     "output_type": "execute_result"
    }
   ],
   "source": [
    "# Creating a random seed\n",
    "torch.manual_seed(42)\n",
    "\n",
    "# Creating an instance of the model\n",
    "model_0 = LinearRegressionModel()\n",
    "\n",
    "# Checking the parameters\n",
    "list(model_0.parameters())"
   ]
  },
  {
   "cell_type": "markdown",
   "id": "5d0fb791-0297-4685-8843-e0c89dde6814",
   "metadata": {},
   "source": [
    "### Making prediction using `torch.inference_mode()`\n",
    "#### To check our model's preditive power, let's see how well it predicts `y_test` based on `X_test`.\n",
    "#### When we pass data through our model, it's going to run it though the `forward()` method"
   ]
  },
  {
   "cell_type": "code",
   "execution_count": 95,
   "id": "17b86b5e-bddb-4f6c-8183-c9ef71b3ba07",
   "metadata": {},
   "outputs": [
    {
     "data": {
      "text/plain": [
       "tensor([[0.8685],\n",
       "        [0.8825],\n",
       "        [0.8965],\n",
       "        [0.9105],\n",
       "        [0.9245],\n",
       "        [0.9384],\n",
       "        [0.9524],\n",
       "        [0.9664],\n",
       "        [0.9804],\n",
       "        [0.9944]])"
      ]
     },
     "execution_count": 95,
     "metadata": {},
     "output_type": "execute_result"
    }
   ],
   "source": [
    "# Making predictions with model\n",
    "with torch.inference_mode():      #inference_mode remove all the default settings like tracking grad, this helps in  faster computation\n",
    "    y_preds = model_0(X_test)\n",
    "\n",
    "y_preds"
   ]
  },
  {
   "cell_type": "code",
   "execution_count": 96,
   "id": "0ced2c0c-710c-4b48-8eea-6c57f7c7ab4d",
   "metadata": {},
   "outputs": [
    {
     "data": {
      "image/png": "[encoded data removed]",
      "text/plain": [
       "<Figure size 1000x700 with 1 Axes>"
      ]
     },
     "metadata": {},
     "output_type": "display_data"
    }
   ],
   "source": [
    "plot_predictions(predictions=y_preds)"
   ]
  },
  {
   "cell_type": "markdown",
   "id": "deb8e0ac-f72f-4e89-b2dd-151e1a9d60cc",
   "metadata": {},
   "source": [
    "### Training \n",
    "* one way to measure how poor or how wrong our model prediction are loss function.\n",
    "* `optimizer` -> It helps minimize the loss function by adjusting the model’s weights and bias."
   ]
  },
  {
   "cell_type": "code",
   "execution_count": 69,
   "id": "607775af-968d-4ee2-a742-9bbf13e7d4f7",
   "metadata": {},
   "outputs": [],
   "source": [
    "# Setup  a loss function\n",
    "loss_fn = nn.L1Loss()   # this is MSE\n",
    "\n",
    "# Setup a optimizer\n",
    "optimizer = torch.optim.SGD(params = model_0.parameters(), lr=0.01)  # lr = learning rate -> possiblu the most important hyperparameter you can set\n"
   ]
  },
  {
   "cell_type": "markdown",
   "id": "1697fbf5-0b6c-4e8d-bdcc-a777a1b7dcf0",
   "metadata": {},
   "source": [
    "### Training loop\n",
    "0. Loop through the data\n",
    "1. Forward propagation.\n",
    "2. calculate the loss (compare forward pass predictions to ground truth labels).\n",
    "3. optimizer zero grad.\n",
    "4. loss backward. (back propagation)\n",
    "5. optimizer step -> use the optimizer to adjust our model's parameters to try and improve the loss."
   ]
  },
  {
   "cell_type": "code",
   "execution_count": 70,
   "id": "0ab4943f-52f2-48bd-aeeb-529fa6ea17b0",
   "metadata": {},
   "outputs": [
    {
     "name": "stdout",
     "output_type": "stream",
     "text": [
      "epoch: 0 | loss: 0.31288138031959534 | test loss: 0.48106518387794495\n",
      "epoch: 10 | loss: 0.1976713240146637 | test loss: 0.3463551998138428\n",
      "epoch: 20 | loss: 0.08908725529909134 | test loss: 0.21729660034179688\n",
      "epoch: 30 | loss: 0.053148526698350906 | test loss: 0.14464017748832703\n",
      "epoch: 40 | loss: 0.04543796554207802 | test loss: 0.11360953003168106\n",
      "epoch: 50 | loss: 0.04167863354086876 | test loss: 0.09919948130846024\n",
      "epoch: 60 | loss: 0.03818932920694351 | test loss: 0.08886633068323135\n",
      "epoch: 70 | loss: 0.03476089984178543 | test loss: 0.0805937647819519\n",
      "epoch: 80 | loss: 0.03132382780313492 | test loss: 0.07232122868299484\n",
      "epoch: 90 | loss: 0.02788739837706089 | test loss: 0.06473556160926819\n",
      "epoch: 100 | loss: 0.024458957836031914 | test loss: 0.05646304413676262\n",
      "epoch: 110 | loss: 0.021020207554101944 | test loss: 0.04819049686193466\n",
      "epoch: 120 | loss: 0.01758546568453312 | test loss: 0.04060482233762741\n",
      "epoch: 130 | loss: 0.014155393466353416 | test loss: 0.03233227878808975\n",
      "epoch: 140 | loss: 0.010716589167714119 | test loss: 0.024059748277068138\n",
      "epoch: 150 | loss: 0.0072835334576666355 | test loss: 0.016474086791276932\n",
      "epoch: 160 | loss: 0.0038517764769494534 | test loss: 0.008201557211577892\n",
      "epoch: 170 | loss: 0.008932482451200485 | test loss: 0.005023092031478882\n",
      "epoch: 180 | loss: 0.008932482451200485 | test loss: 0.005023092031478882\n",
      "epoch: 190 | loss: 0.008932482451200485 | test loss: 0.005023092031478882\n"
     ]
    }
   ],
   "source": [
    "# \n",
    "epochs = 200\n",
    "\n",
    "# tracking values\n",
    "epoch_count = []\n",
    "loss_values = []\n",
    "test_loss_values = []\n",
    "\n",
    "for epoch in range(epochs):\n",
    "    # Set the model to training mode\n",
    "    model_0.train()  # train mode ini pytorch sets all the parameters that require gradients to require gradients\n",
    "\n",
    "    # forward pass\n",
    "    y_pred = model_0(X_train)\n",
    "\n",
    "    # calculate the loss\n",
    "    loss = loss_fn(y_pred, y_train)\n",
    "\n",
    "    # optimizer zero grad\n",
    "    optimizer.zero_grad()\n",
    "\n",
    "    # perform backpropagation on the loss with respect to the parameters of the model\n",
    "    loss.backward()\n",
    "\n",
    "    # step the optimizer (perform gradient descent)\n",
    "    optimizer.step()\n",
    "    \n",
    "\n",
    "    model_0.eval()   # turn off different settings in the model not needed for evaluation.\n",
    "    with torch.inference_mode():# turn off gradient tracking   # or we can use torch.no_grad() but inference_mode is better.\n",
    "        # forward pass\n",
    "        test_pred = model_0(X_test)\n",
    "\n",
    "        # calculate the loss\n",
    "        test_loss = loss_fn(test_pred, y_test)\n",
    "\n",
    "    if epoch % 10 == 0:\n",
    "        epoch_count.append(epoch)\n",
    "        loss_values.append(loss)\n",
    "        test_loss_values.append(test_loss)\n",
    "        print(f\"epoch: {epoch} | loss: {loss} | test loss: {test_loss}\")\n",
    "        "
   ]
  },
  {
   "cell_type": "code",
   "execution_count": 71,
   "id": "4c9b8d54-63cd-48ee-8ac8-c75426c35b37",
   "metadata": {},
   "outputs": [
    {
     "data": {
      "text/plain": [
       "OrderedDict([('weights', tensor([0.6990])), ('bias', tensor([0.3093]))])"
      ]
     },
     "execution_count": 71,
     "metadata": {},
     "output_type": "execute_result"
    }
   ],
   "source": [
    "model_0.state_dict()"
   ]
  },
  {
   "cell_type": "code",
   "execution_count": 75,
   "id": "37fce556-8140-4dc4-8e79-c418165c4e7f",
   "metadata": {},
   "outputs": [
    {
     "data": {
      "text/plain": [
       "<matplotlib.legend.Legend at 0x754c8aac8230>"
      ]
     },
     "execution_count": 75,
     "metadata": {},
     "output_type": "execute_result"
    },
    {
     "data": {
      "image/png": "[encoded data removed]",
      "text/plain": [
       "<Figure size 640x480 with 1 Axes>"
      ]
     },
     "metadata": {},
     "output_type": "display_data"
    }
   ],
   "source": [
    "# plot the loss curves\n",
    "\n",
    "plt.plot(epoch_count, np.array(torch.tensor(loss_values).numpy()), label=\"Train loss\")\n",
    "plt.plot(epoch_count, test_loss_values, label=\"test loss\")\n",
    "plt.title(\"training and test loss curves\")\n",
    "plt.ylabel(\"loss\")\n",
    "plt.xlabel(\"epochs\")\n",
    "plt.legend()"
   ]
  },
  {
   "cell_type": "code",
   "execution_count": 73,
   "id": "d4de48e6-e13b-40d6-8952-2b5f2b58becb",
   "metadata": {},
   "outputs": [],
   "source": [
    "with torch.inference_mode():\n",
    "    y_preds_new = model_0(X_test)"
   ]
  },
  {
   "cell_type": "code",
   "execution_count": 88,
   "id": "2243b2e3-b129-486e-b8de-86ba80a5e3b7",
   "metadata": {},
   "outputs": [
    {
     "data": {
      "image/png": "[encoded data removed]",
      "text/plain": [
       "<Figure size 1000x700 with 1 Axes>"
      ]
     },
     "metadata": {},
     "output_type": "display_data"
    }
   ],
   "source": [
    "plot_predictions(predictions=y_preds_new)"
   ]
  },
  {
   "cell_type": "code",
   "execution_count": 49,
   "id": "722caed3-1d0a-4a97-876d-e724beae02b5",
   "metadata": {},
   "outputs": [
    {
     "data": {
      "text/plain": [
       "(0.7, 0.3)"
      ]
     },
     "execution_count": 49,
     "metadata": {},
     "output_type": "execute_result"
    }
   ],
   "source": [
    "weight, bias"
   ]
  },
  {
   "cell_type": "markdown",
   "id": "59066f67-fb4f-450f-b0e8-29e0243ebc23",
   "metadata": {},
   "source": [
    "## Saving & Loading model in PyTorch\n",
    "#### We have 3 method to save and load\n",
    "1. `torch.save()` -> This allow to save PyTorch object in python pickle format.\n",
    "2. `torch.load()` -> Allow us to load a saved PyTorch object.\n",
    "3. `torch.nn.Module.load_state_dict()` -> This allows to load a model's saved state dictionary."
   ]
  },
  {
   "cell_type": "code",
   "execution_count": 82,
   "id": "d1ae57ea-a5d1-401d-9796-69cac3353ed3",
   "metadata": {},
   "outputs": [],
   "source": [
    "# saving our pytorch model\n",
    "from pathlib import Path\n",
    "\n",
    "# creating model directory\n",
    "MODEL_PATH = Path(\"models\")\n",
    "MODEL_PATH.mkdir(parents=True, exist_ok=True)\n",
    "\n",
    "# creating model save path\n",
    "MODEL_NAME = \"model_01.pth\"\n",
    "MODEL_SAVE_PATH = MODEL_PATH / MODEL_NAME\n",
    "MODEL_SAVE_PATH\n",
    "torch.save(obj=model_0.state_dict(), f=MODEL_SAVE_PATH)"
   ]
  },
  {
   "cell_type": "markdown",
   "id": "6fe47ce0-f497-4922-9483-e6d58e4b6cd9",
   "metadata": {},
   "source": [
    "### Loading model\n",
    "#### Since we saved our model's state_dict() rather than the entire model, we'll create a new instance of our model class and load the saved state_dict() into that.\n"
   ]
  },
  {
   "cell_type": "code",
   "execution_count": 89,
   "id": "e082adb3-b3c5-4f73-9d62-f050ba499c92",
   "metadata": {},
   "outputs": [
    {
     "data": {
      "text/plain": [
       "<All keys matched successfully>"
      ]
     },
     "execution_count": 89,
     "metadata": {},
     "output_type": "execute_result"
    }
   ],
   "source": [
    "# to load a saved state_dict() we have to instantiate a new instance of our model class\n",
    "loaded_model_0 = LinearRegressionModel()\n",
    "\n",
    "# Loading saved state_dict() of model_0 (this will update the new instance with updated parameters)\n",
    "loaded_model_0.load_state_dict(torch.load(f=MODEL_SAVE_PATH))"
   ]
  },
  {
   "cell_type": "code",
   "execution_count": 92,
   "id": "2be91be5-4e4f-4202-a3e6-489062a1c720",
   "metadata": {},
   "outputs": [
    {
     "data": {
      "text/plain": [
       "tensor([[0.8685],\n",
       "        [0.8825],\n",
       "        [0.8965],\n",
       "        [0.9105],\n",
       "        [0.9245],\n",
       "        [0.9384],\n",
       "        [0.9524],\n",
       "        [0.9664],\n",
       "        [0.9804],\n",
       "        [0.9944]])"
      ]
     },
     "execution_count": 92,
     "metadata": {},
     "output_type": "execute_result"
    }
   ],
   "source": [
    "# Making some prediction with our loaded model\n",
    "loaded_model_0.eval()\n",
    "with torch.inference_mode():\n",
    "    loaded_model_preds = loaded_model_0(X_test)\n",
    "\n",
    "loaded_model_preds"
   ]
  },
  {
   "cell_type": "code",
   "execution_count": 97,
   "id": "6c0ab115-21ff-46a3-b3fe-d9514667f1b5",
   "metadata": {},
   "outputs": [
    {
     "data": {
      "text/plain": [
       "tensor([[True],\n",
       "        [True],\n",
       "        [True],\n",
       "        [True],\n",
       "        [True],\n",
       "        [True],\n",
       "        [True],\n",
       "        [True],\n",
       "        [True],\n",
       "        [True]])"
      ]
     },
     "execution_count": 97,
     "metadata": {},
     "output_type": "execute_result"
    }
   ],
   "source": [
    "# Compare loaded model preds with original model preds\n",
    "y_preds == loaded_model_preds"
   ]
  },
  {
   "cell_type": "code",
   "execution_count": null,
   "id": "604e930a-3647-4e7c-99e9-ede5011a0f3e",
   "metadata": {},
   "outputs": [],
   "source": []
  },
  {
   "cell_type": "markdown",
   "id": "95633b1a-f9ea-46fa-bd35-6858edd5438f",
   "metadata": {},
   "source": [
    "# Putting all together"
   ]
  },
  {
   "cell_type": "code",
   "execution_count": 98,
   "id": "84318b0b-6a5d-4f47-bfd6-14700d3ea0b1",
   "metadata": {},
   "outputs": [
    {
     "data": {
      "text/plain": [
       "'2.3.1.post100'"
      ]
     },
     "execution_count": 98,
     "metadata": {},
     "output_type": "execute_result"
    }
   ],
   "source": [
    "import torch\n",
    "from torch import nn\n",
    "import matplotlib.pyplot as plt\n",
    "\n",
    "# Checking torch version\n",
    "torch.__version__"
   ]
  },
  {
   "cell_type": "code",
   "execution_count": 105,
   "id": "95d1ae5f-502b-41e6-a348-c29f86859cd9",
   "metadata": {},
   "outputs": [
    {
     "name": "stdout",
     "output_type": "stream",
     "text": [
      "Using device: cpu\n"
     ]
    }
   ],
   "source": [
    "# Divice agnostic code\n",
    "device = \"cuda\" if torch.cuda.is_available() else \"cpu\"\n",
    "print(f\"Using device: {device}\")"
   ]
  },
  {
   "cell_type": "code",
   "execution_count": 108,
   "id": "d346ca43-8c8d-47cf-856d-43fe11376de7",
   "metadata": {},
   "outputs": [
    {
     "data": {
      "text/plain": [
       "(tensor([[0.0000],\n",
       "         [0.0200],\n",
       "         [0.0400],\n",
       "         [0.0600],\n",
       "         [0.0800],\n",
       "         [0.1000],\n",
       "         [0.1200],\n",
       "         [0.1400],\n",
       "         [0.1600],\n",
       "         [0.1800]]),\n",
       " tensor([[0.3000],\n",
       "         [0.3140],\n",
       "         [0.3280],\n",
       "         [0.3420],\n",
       "         [0.3560],\n",
       "         [0.3700],\n",
       "         [0.3840],\n",
       "         [0.3980],\n",
       "         [0.4120],\n",
       "         [0.4260]]))"
      ]
     },
     "execution_count": 108,
     "metadata": {},
     "output_type": "execute_result"
    }
   ],
   "source": [
    "# Create data using linear regression\n",
    "weight = 0.7\n",
    "bias = 0.3\n",
    "\n",
    "start = 0\n",
    "end = 1\n",
    "step = 0.02\n",
    "\n",
    "X = torch.arange(start, end, step).unsqueeze(dim=1)\n",
    "y = weight * X + bias\n",
    "X[:10], y[:10]"
   ]
  },
  {
   "cell_type": "code",
   "execution_count": 111,
   "id": "2f30977a-8c52-4886-86ae-45c7fd459a0b",
   "metadata": {},
   "outputs": [],
   "source": [
    "# Data split\n",
    "train_split = int(0.8 * len(X))\n",
    "X_train = X[:train_split]\n",
    "y_train = y[:train_split]\n",
    "\n",
    "# test split\n",
    "X_test = X[train_split:]\n",
    "y_test = y[train_split:]"
   ]
  },
  {
   "cell_type": "code",
   "execution_count": 112,
   "id": "f640107b-87b5-4b95-92f7-d0ea886ce5aa",
   "metadata": {},
   "outputs": [
    {
     "data": {
      "image/png": "[encoded data removed]",
      "text/plain": [
       "<Figure size 1000x700 with 1 Axes>"
      ]
     },
     "metadata": {},
     "output_type": "display_data"
    }
   ],
   "source": [
    "# Plot the data\n",
    "plot_predictions(X_train, y_train, X_test, y_test)"
   ]
  },
  {
   "cell_type": "code",
   "execution_count": null,
   "id": "92f39a5e-d34c-44d2-97f5-71ac367ef859",
   "metadata": {},
   "outputs": [],
   "source": []
  },
  {
   "cell_type": "code",
   "execution_count": null,
   "id": "b6246e09-0ce8-44fe-85bc-ed8c8193a339",
   "metadata": {},
   "outputs": [],
   "source": []
  },
  {
   "cell_type": "code",
   "execution_count": null,
   "id": "af0d10b6-d67f-4866-abb8-5a4562c722d2",
   "metadata": {},
   "outputs": [],
   "source": []
  },
  {
   "cell_type": "code",
   "execution_count": null,
   "id": "ec2c415f-1583-414e-a06b-a73fa1c50c1a",
   "metadata": {},
   "outputs": [],
   "source": []
  },
  {
   "cell_type": "code",
   "execution_count": null,
   "id": "327a3f8f-28f6-483b-bf1b-efde45f26ef2",
   "metadata": {},
   "outputs": [],
   "source": []
  },
  {
   "cell_type": "code",
   "execution_count": null,
   "id": "949a8b84-b6bd-4c85-a2dd-16ad1e2095f9",
   "metadata": {},
   "outputs": [],
   "source": []
  },
  {
   "cell_type": "code",
   "execution_count": null,
   "id": "f9880ca5-4cf8-4178-882d-c2eecf77ab95",
   "metadata": {},
   "outputs": [],
   "source": []
  },
  {
   "cell_type": "code",
   "execution_count": null,
   "id": "8512749b-7dbc-498d-ad83-7e17e20ba4e3",
   "metadata": {},
   "outputs": [],
   "source": []
  },
  {
   "cell_type": "code",
   "execution_count": null,
   "id": "267d95d5-6e29-4ac3-9b34-a995e72f4a2a",
   "metadata": {},
   "outputs": [],
   "source": []
  },
  {
   "cell_type": "code",
   "execution_count": null,
   "id": "0414c636-0bb0-4070-9737-3a463cf80e4a",
   "metadata": {},
   "outputs": [],
   "source": []
  },
  {
   "cell_type": "code",
   "execution_count": null,
   "id": "9be92a00-2b5e-41df-b73a-d6f1127be45c",
   "metadata": {},
   "outputs": [],
   "source": []
  },
  {
   "cell_type": "code",
   "execution_count": null,
   "id": "c6422161-f590-4480-bda9-9348cf18f908",
   "metadata": {},
   "outputs": [],
   "source": []
  },
  {
   "cell_type": "code",
   "execution_count": null,
   "id": "7ebe19f1-daf6-4910-99b2-bb51db347275",
   "metadata": {},
   "outputs": [],
   "source": []
  },
  {
   "cell_type": "code",
   "execution_count": null,
   "id": "581e3c96-9be4-4f0d-a337-a7f00189949a",
   "metadata": {},
   "outputs": [],
   "source": []
  },
  {
   "cell_type": "code",
   "execution_count": null,
   "id": "f41c609b-bdd2-4650-8fb9-a272c901a781",
   "metadata": {},
   "outputs": [],
   "source": []
  },
  {
   "cell_type": "code",
   "execution_count": null,
   "id": "a1edaf3e-e080-47e3-a052-f4d9c61d17e3",
   "metadata": {},
   "outputs": [],
   "source": []
  },
  {
   "cell_type": "code",
   "execution_count": null,
   "id": "5c4eafb1-c7e1-41ca-b0a3-c499000811b9",
   "metadata": {},
   "outputs": [],
   "source": []
  },
  {
   "cell_type": "code",
   "execution_count": null,
   "id": "d336e95c-2884-4440-a1ab-739c9f2f4a9e",
   "metadata": {},
   "outputs": [],
   "source": []
  },
  {
   "cell_type": "code",
   "execution_count": null,
   "id": "5c8dd80d-47da-4690-a176-b20f8f083124",
   "metadata": {},
   "outputs": [],
   "source": []
  },
  {
   "cell_type": "code",
   "execution_count": null,
   "id": "49d61232-03f6-4486-93df-a55538e95dcb",
   "metadata": {},
   "outputs": [],
   "source": []
  },
  {
   "cell_type": "code",
   "execution_count": null,
   "id": "a3d349a0-ced6-45e1-a908-2d944d8c2526",
   "metadata": {},
   "outputs": [],
   "source": []
  },
  {
   "cell_type": "code",
   "execution_count": null,
   "id": "abc6c8e4-e8a1-4c54-8e30-83fddd240f3a",
   "metadata": {},
   "outputs": [],
   "source": []
  },
  {
   "cell_type": "code",
   "execution_count": null,
   "id": "fcc85e07-05e7-4dec-9362-c302a9af7417",
   "metadata": {},
   "outputs": [],
   "source": []
  },
  {
   "cell_type": "code",
   "execution_count": null,
   "id": "56069072-ae73-449b-887f-8db34618b2e4",
   "metadata": {},
   "outputs": [],
   "source": []
  },
  {
   "cell_type": "code",
   "execution_count": null,
   "id": "494fcf1f-56ba-46b8-961b-6249bbce100b",
   "metadata": {},
   "outputs": [],
   "source": []
  }
 ],
 "metadata": {
  "kernelspec": {
   "display_name": "Python 3 (ipykernel)",
   "language": "python",
   "name": "python3"
  },
  "language_info": {
   "codemirror_mode": {
    "name": "ipython",
    "version": 3
   },
   "file_extension": ".py",
   "mimetype": "text/x-python",
   "name": "python",
   "nbconvert_exporter": "python",
   "pygments_lexer": "ipython3",
   "version": "3.12.2"
  }
 },
 "nbformat": 4,
 "nbformat_minor": 5
}
